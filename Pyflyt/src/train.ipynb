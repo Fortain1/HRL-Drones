{
 "cells": [
  {
   "cell_type": "code",
   "execution_count": 1,
   "metadata": {},
   "outputs": [
    {
     "name": "stdout",
     "output_type": "stream",
     "text": [
      "WARNING:tensorflow:From c:\\Users\\chpre\\AppData\\Local\\Programs\\Python\\Python39\\lib\\site-packages\\keras\\src\\losses.py:2976: The name tf.losses.sparse_softmax_cross_entropy is deprecated. Please use tf.compat.v1.losses.sparse_softmax_cross_entropy instead.\n",
      "\n"
     ]
    }
   ],
   "source": [
    "import gymnasium as gym\n",
    "import os\n",
    "import random\n",
    "import string\n",
    "\n",
    "from PyFlyt.gym_envs import FlattenWaypointEnv\n",
    "from stable_baselines3.common.env_util import make_vec_env\n",
    "\n",
    "from stable_baselines3 import PPO, A2C, DDPG, TD3, SAC\n",
    "\n",
    "def train(env_name, train_env, algorithm_name, n_episodes=10000, logging=False, n_runs=10, model_name= None):\n",
    "    environment = env_name\n",
    "\n",
    "    if algorithm_name == \"PPO\": algorithm = PPO\n",
    "    elif algorithm_name == \"A2C\": algorithm = A2C\n",
    "    elif algorithm_name == \"DDPG\": algorithm = DDPG\n",
    "    elif algorithm_name == \"TD3\": algorithm = TD3\n",
    "    elif algorithm_name == \"SAC\": algorithm = SAC\n",
    "    else:\n",
    "        print(\"Error: Invalid DRL Algorithm specified\")\n",
    "        return\n",
    "\n",
    "    full_id = algorithm_name + '_' + environment\n",
    "\n",
    "    models_dir = f\"models/{full_id}\"\n",
    "    logdir = \"data\"\n",
    "\n",
    "    if not os.path.exists(models_dir):\n",
    "        os.makedirs(models_dir)\n",
    "    if not os.path.exists(logdir):\n",
    "        os.makedirs(logdir)\n",
    "    \n",
    "    \n",
    "\n",
    "    if model_name:\n",
    "        model = algorithm.load(models_dir +\"\\\\\"+ model_name)\n",
    "    else:\n",
    "        model = algorithm(\"MlpPolicy\", train_env, verbose=1, tensorboard_log=logdir if logging else None)\n",
    "    \n",
    "    model.set_env(train_env)\n",
    "    for i in range(1, n_runs+1):\n",
    "        model.learn(total_timesteps=n_episodes, reset_num_timesteps=False, tb_log_name=full_id)   \n",
    "        model.save(f\"{models_dir}/{model._total_timesteps + n_episodes*i}\")\n",
    "\n",
    "    train_env.close()\n",
    "    return model"
   ]
  },
  {
   "cell_type": "code",
   "execution_count": 2,
   "metadata": {},
   "outputs": [
    {
     "name": "stderr",
     "output_type": "stream",
     "text": [
      "c:\\Users\\chpre\\AppData\\Local\\Programs\\Python\\Python39\\lib\\site-packages\\gymnasium\\core.py:311: UserWarning: \u001b[33mWARN: env.waypoints to get variables from other wrappers is deprecated and will be removed in v1.0, to get this variable you can do `env.unwrapped.waypoints` for environment variables or `env.get_wrapper_attr('waypoints')` that will search the reminding wrappers.\u001b[0m\n",
      "  logger.warn(\n"
     ]
    },
    {
     "name": "stdout",
     "output_type": "stream",
     "text": [
      "\u001b[A                             \u001b[A\n"
     ]
    }
   ],
   "source": [
    "env = FlattenWaypointEnv(gym.make(\"PyFlyt/QuadX-Waypoints-v1\"), context_length=1)\n",
    "#env = gym.make(\"PyFlyt/QuadX-Waypoints-v1\")\n",
    "obs = env.reset()"
   ]
  },
  {
   "cell_type": "code",
   "execution_count": 2,
   "metadata": {},
   "outputs": [
    {
     "name": "stdout",
     "output_type": "stream",
     "text": [
      "Using cpu device                             \u001b[A                             \u001b[A                             \u001b[A                             \u001b[A                             \u001b[A                             \u001b[A\n",
      "\u001b[A                             \u001b[A                             \u001b[A                             \u001b[A\n",
      "\u001b[A                             \u001b[A                             \u001b[A                             \u001b[A\n",
      "\u001b[A                             \u001b[A                             \u001b[A                             \u001b[A                             \u001b[A                             \u001b[A                             \u001b[A                             \u001b[A                             \u001b[A                             \u001b[A                             \u001b[A                             \u001b[A                             \u001b[A\n",
      "\u001b[A                             \u001b[A                             \u001b[A                             \u001b[A                             \u001b[A                             \u001b[A                             \u001b[A                             \u001b[A                             \u001b[A                             \u001b[A                             \u001b[A                             \u001b[A                             \u001b[A                             \u001b[A                             \u001b[A                             \u001b[A                             \u001b[A                             \u001b[A                             \u001b[A                             \u001b[A                             \u001b[A                             \u001b[A                             \u001b[A                             \u001b[A                             \u001b[A                             \u001b[A\n",
      "---------------------------------\n",
      "| rollout/           |          |\n",
      "|    ep_len_mean     | 42.5     |\n",
      "|    ep_rew_mean     | -89.6    |\n",
      "| time/              |          |\n",
      "|    fps             | 106      |\n",
      "|    iterations      | 1        |\n",
      "|    time_elapsed    | 19       |\n",
      "|    total_timesteps | 2048     |\n",
      "---------------------------------                             \u001b[A                             \u001b[A                             \u001b[A                             \u001b[A                             \u001b[A                             \u001b[A                             \u001b[A                             \u001b[A                             \u001b[A                             \u001b[A\n",
      "\u001b[A                             \u001b[A                             \u001b[A                             \u001b[A                             \u001b[A                             \u001b[A                             \u001b[A                             \u001b[A                             \u001b[A                             \u001b[A                             \u001b[A                             \u001b[A                             \u001b[A\n",
      "\u001b[A                             \u001b[A                             \u001b[A                             \u001b[A                             \u001b[A\n",
      "\u001b[A                             \u001b[A                             \u001b[A                             \u001b[A                             \u001b[A                             \u001b[A\n",
      "\u001b[A                             \u001b[A                             \u001b[A                             \u001b[A                             \u001b[A\n",
      "\u001b[A                             \u001b[A                             \u001b[A\n",
      "\u001b[A                             \u001b[A                             \u001b[A                             \u001b[A                             \u001b[A                             \u001b[A                             \u001b[A                             \u001b[A                             \u001b[A\n",
      "-----------------------------------------\n",
      "| rollout/                |             |\n",
      "|    ep_len_mean          | 44          |\n",
      "|    ep_rew_mean          | -90.5       |\n",
      "| time/                   |             |\n",
      "|    fps                  | 117         |\n",
      "|    iterations           | 2           |\n",
      "|    time_elapsed         | 34          |\n",
      "|    total_timesteps      | 4096        |\n",
      "| train/                  |             |\n",
      "|    approx_kl            | 0.007909879 |\n",
      "|    clip_fraction        | 0.0739      |\n",
      "|    clip_range           | 0.2         |\n",
      "|    entropy_loss         | -5.67       |\n",
      "|    explained_variance   | 0.00519     |\n",
      "|    learning_rate        | 0.0003      |\n",
      "|    loss                 | 1.16e+03    |\n",
      "|    n_updates            | 10          |\n",
      "|    policy_gradient_loss | -0.0108     |\n",
      "|    std                  | 0.996       |\n",
      "|    value_loss           | 2.57e+03    |\n",
      "-----------------------------------------                             \u001b[A                             \u001b[A                             \u001b[A                             \u001b[A                             \u001b[A                             \u001b[A                             \u001b[A\n",
      "\u001b[A                             \u001b[A                             \u001b[A                             \u001b[A                             \u001b[A                             \u001b[A\n",
      "\u001b[A                             \u001b[A                             \u001b[A                             \u001b[A                             \u001b[A                             \u001b[A                             \u001b[A                             \u001b[A\n",
      "\u001b[A                             \u001b[A\n",
      "\u001b[A                             \u001b[A                             \u001b[A                             \u001b[A                             \u001b[A                             \u001b[A                             \u001b[A                             \u001b[A                             \u001b[A                             \u001b[A                             \u001b[A                             \u001b[A                             \u001b[A\n",
      "\u001b[A                             \u001b[A                             \u001b[A                             \u001b[A                             \u001b[A                             \u001b[A\n",
      "\u001b[A                             \u001b[A                             \u001b[A                             \u001b[A\n",
      "\u001b[A                             \u001b[A                             \u001b[A\n",
      "\u001b[A                             \u001b[A                             \u001b[A\n",
      "\u001b[A                             \u001b[A                             \u001b[A                             \u001b[A                             \u001b[A                             \u001b[A\n",
      "------------------------------------------\n",
      "| rollout/                |              |\n",
      "|    ep_len_mean          | 43.3         |\n",
      "|    ep_rew_mean          | -89.3        |\n",
      "| time/                   |              |\n",
      "|    fps                  | 121          |\n",
      "|    iterations           | 3            |\n",
      "|    time_elapsed         | 50           |\n",
      "|    total_timesteps      | 6144         |\n",
      "| train/                  |              |\n",
      "|    approx_kl            | 0.0070522465 |\n",
      "|    clip_fraction        | 0.0542       |\n",
      "|    clip_range           | 0.2          |\n",
      "|    entropy_loss         | -5.66        |\n",
      "|    explained_variance   | 0.0664       |\n",
      "|    learning_rate        | 0.0003       |\n",
      "|    loss                 | 1.04e+03     |\n",
      "|    n_updates            | 20           |\n",
      "|    policy_gradient_loss | -0.0103      |\n",
      "|    std                  | 0.994        |\n",
      "|    value_loss           | 2.28e+03     |\n",
      "------------------------------------------                             \u001b[A                             \u001b[A                             \u001b[A                             \u001b[A                             \u001b[A                             \u001b[A                             \u001b[A                             \u001b[A                             \u001b[A                             \u001b[A                             \u001b[A\n",
      "\u001b[A                             \u001b[A                             \u001b[A\n",
      "\u001b[A                             \u001b[A                             \u001b[A\n",
      "\u001b[A                             \u001b[A                             \u001b[A                             \u001b[A                             \u001b[A                             \u001b[A                             \u001b[A                             \u001b[A\n",
      "\u001b[A                             \u001b[A                             \u001b[A                             \u001b[A                             \u001b[A\n",
      "\u001b[A                             \u001b[A                             \u001b[A\n",
      "\u001b[A                             \u001b[A                             \u001b[A                             \u001b[A                             \u001b[A\n",
      "\u001b[A                             \u001b[A                             \u001b[A                             \u001b[A\n",
      "\u001b[A                             \u001b[A                             \u001b[A                             \u001b[A                             \u001b[A                             \u001b[A                             \u001b[A                             \u001b[A                             \u001b[A\n",
      "-----------------------------------------\n",
      "| rollout/                |             |\n",
      "|    ep_len_mean          | 44.4        |\n",
      "|    ep_rew_mean          | -92.1       |\n",
      "| time/                   |             |\n",
      "|    fps                  | 125         |\n",
      "|    iterations           | 4           |\n",
      "|    time_elapsed         | 65          |\n",
      "|    total_timesteps      | 8192        |\n",
      "| train/                  |             |\n",
      "|    approx_kl            | 0.006653147 |\n",
      "|    clip_fraction        | 0.0416      |\n",
      "|    clip_range           | 0.2         |\n",
      "|    entropy_loss         | -5.66       |\n",
      "|    explained_variance   | 0.0626      |\n",
      "|    learning_rate        | 0.0003      |\n",
      "|    loss                 | 960         |\n",
      "|    n_updates            | 30          |\n",
      "|    policy_gradient_loss | -0.00801    |\n",
      "|    std                  | 0.997       |\n",
      "|    value_loss           | 1.95e+03    |\n",
      "-----------------------------------------                             \u001b[A                             \u001b[A                             \u001b[A                             \u001b[A\n",
      "\u001b[A                             \u001b[A                             \u001b[A                             \u001b[A                             \u001b[A                             \u001b[A                             \u001b[A                             \u001b[A\n",
      "\u001b[A                             \u001b[A                             \u001b[A                             \u001b[A                             \u001b[A                             \u001b[A                             \u001b[A                             \u001b[A                             \u001b[A                             \u001b[A                             \u001b[A                             \u001b[A                             \u001b[A                             \u001b[A                             \u001b[A                             \u001b[A                             \u001b[A                             \u001b[A                             \u001b[A\n",
      "\u001b[A                             \u001b[A                             \u001b[A                             \u001b[A                             \u001b[A                             \u001b[A                             \u001b[A                             \u001b[A                             \u001b[A                             \u001b[A\n",
      "-----------------------------------------\n",
      "| rollout/                |             |\n",
      "|    ep_len_mean          | 48.2        |\n",
      "|    ep_rew_mean          | -92.5       |\n",
      "| time/                   |             |\n",
      "|    fps                  | 128         |\n",
      "|    iterations           | 5           |\n",
      "|    time_elapsed         | 79          |\n",
      "|    total_timesteps      | 10240       |\n",
      "| train/                  |             |\n",
      "|    approx_kl            | 0.008128436 |\n",
      "|    clip_fraction        | 0.0723      |\n",
      "|    clip_range           | 0.2         |\n",
      "|    entropy_loss         | -5.65       |\n",
      "|    explained_variance   | 0.102       |\n",
      "|    learning_rate        | 0.0003      |\n",
      "|    loss                 | 827         |\n",
      "|    n_updates            | 40          |\n",
      "|    policy_gradient_loss | -0.0125     |\n",
      "|    std                  | 0.991       |\n",
      "|    value_loss           | 1.75e+03    |\n",
      "-----------------------------------------                             \u001b[A                             \u001b[A                             \u001b[A                             \u001b[A                             \u001b[A                             \u001b[A                             \u001b[A                             \u001b[A                             \u001b[A                             \u001b[A                             \u001b[A                             \u001b[A                             \u001b[A                             \u001b[A                             \u001b[A                             \u001b[A                             \u001b[A                             \u001b[A\n",
      "\u001b[A                             \u001b[A                             \u001b[A                             \u001b[A\n",
      "\u001b[A                             \u001b[A                             \u001b[A\n",
      "\u001b[A                             \u001b[A                             \u001b[A\n",
      "\u001b[A                             \u001b[A                             \u001b[A                             \u001b[A                             \u001b[A                             \u001b[A                             \u001b[A                             \u001b[A                             \u001b[A                             \u001b[A                             \u001b[A                             \u001b[A                             \u001b[A\n",
      "\u001b[A                             \u001b[A                             \u001b[A                             \u001b[A\n",
      "-----------------------------------------\n",
      "| rollout/                |             |\n",
      "|    ep_len_mean          | 51.4        |\n",
      "|    ep_rew_mean          | -90.9       |\n",
      "| time/                   |             |\n",
      "|    fps                  | 130         |\n",
      "|    iterations           | 6           |\n",
      "|    time_elapsed         | 94          |\n",
      "|    total_timesteps      | 12288       |\n",
      "| train/                  |             |\n",
      "|    approx_kl            | 0.009057492 |\n",
      "|    clip_fraction        | 0.0887      |\n",
      "|    clip_range           | 0.2         |\n",
      "|    entropy_loss         | -5.62       |\n",
      "|    explained_variance   | 0.152       |\n",
      "|    learning_rate        | 0.0003      |\n",
      "|    loss                 | 455         |\n",
      "|    n_updates            | 50          |\n",
      "|    policy_gradient_loss | -0.0137     |\n",
      "|    std                  | 0.983       |\n",
      "|    value_loss           | 1.31e+03    |\n",
      "-----------------------------------------                             \u001b[A                             \u001b[A                             \u001b[A                             \u001b[A                             \u001b[A                             \u001b[A                             \u001b[A                             \u001b[A                             \u001b[A                             \u001b[A                             \u001b[A                             \u001b[A                             \u001b[A                             \u001b[A                             \u001b[A                             \u001b[A                             \u001b[A                             \u001b[A                             \u001b[A                             \u001b[A                             \u001b[A\n",
      "\u001b[A                             \u001b[A                             \u001b[A                             \u001b[A                             \u001b[A                             \u001b[A\n",
      "\u001b[A                             \u001b[A                             \u001b[A                             \u001b[A                             \u001b[A                             \u001b[A                             \u001b[A                             \u001b[A                             \u001b[A                             \u001b[A                             \u001b[A                             \u001b[A\n",
      "-----------------------------------------\n",
      "| rollout/                |             |\n",
      "|    ep_len_mean          | 54.6        |\n",
      "|    ep_rew_mean          | -93.2       |\n",
      "| time/                   |             |\n",
      "|    fps                  | 132         |\n",
      "|    iterations           | 7           |\n",
      "|    time_elapsed         | 108         |\n",
      "|    total_timesteps      | 14336       |\n",
      "| train/                  |             |\n",
      "|    approx_kl            | 0.008908151 |\n",
      "|    clip_fraction        | 0.0858      |\n",
      "|    clip_range           | 0.2         |\n",
      "|    entropy_loss         | -5.6        |\n",
      "|    explained_variance   | 0.291       |\n",
      "|    learning_rate        | 0.0003      |\n",
      "|    loss                 | 724         |\n",
      "|    n_updates            | 60          |\n",
      "|    policy_gradient_loss | -0.0149     |\n",
      "|    std                  | 0.98        |\n",
      "|    value_loss           | 1.38e+03    |\n",
      "-----------------------------------------                             \u001b[A                             \u001b[A                             \u001b[A                             \u001b[A                             \u001b[A                             \u001b[A                             \u001b[A                             \u001b[A                             \u001b[A                             \u001b[A                             \u001b[A                             \u001b[A                             \u001b[A                             \u001b[A                             \u001b[A                             \u001b[A                             \u001b[A                             \u001b[A                             \u001b[A                             \u001b[A                             \u001b[A\n",
      "\u001b[A                             \u001b[A                             \u001b[A                             \u001b[A                             \u001b[A                             \u001b[A                             \u001b[A                             \u001b[A                             \u001b[A\n",
      "\u001b[A                             \u001b[A                             \u001b[A                             \u001b[A                             \u001b[A\n",
      "------------------------------------------\n",
      "| rollout/                |              |\n",
      "|    ep_len_mean          | 55.6         |\n",
      "|    ep_rew_mean          | -100         |\n",
      "| time/                   |              |\n",
      "|    fps                  | 134          |\n",
      "|    iterations           | 8            |\n",
      "|    time_elapsed         | 121          |\n",
      "|    total_timesteps      | 16384        |\n",
      "| train/                  |              |\n",
      "|    approx_kl            | 0.0073112017 |\n",
      "|    clip_fraction        | 0.0603       |\n",
      "|    clip_range           | 0.2          |\n",
      "|    entropy_loss         | -5.58        |\n",
      "|    explained_variance   | 0.259        |\n",
      "|    learning_rate        | 0.0003       |\n",
      "|    loss                 | 517          |\n",
      "|    n_updates            | 70           |\n",
      "|    policy_gradient_loss | -0.0113      |\n",
      "|    std                  | 0.973        |\n",
      "|    value_loss           | 1.37e+03     |\n",
      "------------------------------------------                             \u001b[A                             \u001b[A                             \u001b[A                             \u001b[A                             \u001b[A                             \u001b[A                             \u001b[A                             \u001b[A                             \u001b[A                             \u001b[A                             \u001b[A                             \u001b[A                             \u001b[A                             \u001b[A                             \u001b[A                             \u001b[A                             \u001b[A                             \u001b[A                             \u001b[A                             \u001b[A                             \u001b[A                             \u001b[A                             \u001b[A                             \u001b[A                             \u001b[A                             \u001b[A                             \u001b[A                             \u001b[A                             \u001b[A                             \u001b[A\n",
      "\u001b[A                             \u001b[A\n"
     ]
    },
    {
     "ename": "KeyboardInterrupt",
     "evalue": "",
     "output_type": "error",
     "traceback": [
      "\u001b[1;31m---------------------------------------------------------------------------\u001b[0m",
      "\u001b[1;31mKeyboardInterrupt\u001b[0m                         Traceback (most recent call last)",
      "\u001b[1;32m<ipython-input-2-3e9f86dc04f3>\u001b[0m in \u001b[0;36m<module>\u001b[1;34m\u001b[0m\n\u001b[0;32m      2\u001b[0m \u001b[0menv_name\u001b[0m \u001b[1;33m=\u001b[0m \u001b[1;34m\"QuadX-Hover-v1\"\u001b[0m\u001b[1;33m\u001b[0m\u001b[1;33m\u001b[0m\u001b[0m\n\u001b[0;32m      3\u001b[0m \u001b[0menv\u001b[0m \u001b[1;33m=\u001b[0m \u001b[0mmake_vec_env\u001b[0m\u001b[1;33m(\u001b[0m\u001b[1;32mlambda\u001b[0m\u001b[1;33m:\u001b[0m \u001b[0mgym\u001b[0m\u001b[1;33m.\u001b[0m\u001b[0mmake\u001b[0m\u001b[1;33m(\u001b[0m\u001b[1;34m\"PyFlyt/QuadX-Hover-v1\"\u001b[0m\u001b[1;33m)\u001b[0m\u001b[1;33m)\u001b[0m\u001b[1;33m\u001b[0m\u001b[1;33m\u001b[0m\u001b[0m\n\u001b[1;32m----> 4\u001b[1;33m \u001b[0mm\u001b[0m \u001b[1;33m=\u001b[0m \u001b[0mtrain\u001b[0m\u001b[1;33m(\u001b[0m\u001b[0menv_name\u001b[0m\u001b[1;33m,\u001b[0m \u001b[0menv\u001b[0m\u001b[1;33m,\u001b[0m \u001b[1;34m\"PPO\"\u001b[0m\u001b[1;33m,\u001b[0m \u001b[0mn_episodes\u001b[0m\u001b[1;33m=\u001b[0m\u001b[1;36m100000\u001b[0m\u001b[1;33m,\u001b[0m \u001b[0mn_runs\u001b[0m\u001b[1;33m=\u001b[0m\u001b[1;36m1\u001b[0m\u001b[1;33m)\u001b[0m\u001b[1;31m# model_name=\"50720.zip\")\u001b[0m\u001b[1;33m\u001b[0m\u001b[1;33m\u001b[0m\u001b[0m\n\u001b[0m",
      "\u001b[1;32m<ipython-input-1-05712017928c>\u001b[0m in \u001b[0;36mtrain\u001b[1;34m(env_name, train_env, algorithm_name, n_episodes, logging, n_runs, model_name)\u001b[0m\n\u001b[0;32m     40\u001b[0m     \u001b[0mmodel\u001b[0m\u001b[1;33m.\u001b[0m\u001b[0mset_env\u001b[0m\u001b[1;33m(\u001b[0m\u001b[0mtrain_env\u001b[0m\u001b[1;33m)\u001b[0m\u001b[1;33m\u001b[0m\u001b[1;33m\u001b[0m\u001b[0m\n\u001b[0;32m     41\u001b[0m     \u001b[1;32mfor\u001b[0m \u001b[0mi\u001b[0m \u001b[1;32min\u001b[0m \u001b[0mrange\u001b[0m\u001b[1;33m(\u001b[0m\u001b[1;36m1\u001b[0m\u001b[1;33m,\u001b[0m \u001b[0mn_runs\u001b[0m\u001b[1;33m+\u001b[0m\u001b[1;36m1\u001b[0m\u001b[1;33m)\u001b[0m\u001b[1;33m:\u001b[0m\u001b[1;33m\u001b[0m\u001b[1;33m\u001b[0m\u001b[0m\n\u001b[1;32m---> 42\u001b[1;33m         \u001b[0mmodel\u001b[0m\u001b[1;33m.\u001b[0m\u001b[0mlearn\u001b[0m\u001b[1;33m(\u001b[0m\u001b[0mtotal_timesteps\u001b[0m\u001b[1;33m=\u001b[0m\u001b[0mn_episodes\u001b[0m\u001b[1;33m,\u001b[0m \u001b[0mreset_num_timesteps\u001b[0m\u001b[1;33m=\u001b[0m\u001b[1;32mFalse\u001b[0m\u001b[1;33m,\u001b[0m \u001b[0mtb_log_name\u001b[0m\u001b[1;33m=\u001b[0m\u001b[0mfull_id\u001b[0m\u001b[1;33m)\u001b[0m\u001b[1;33m\u001b[0m\u001b[1;33m\u001b[0m\u001b[0m\n\u001b[0m\u001b[0;32m     43\u001b[0m         \u001b[0mmodel\u001b[0m\u001b[1;33m.\u001b[0m\u001b[0msave\u001b[0m\u001b[1;33m(\u001b[0m\u001b[1;34mf\"{models_dir}/{model._total_timesteps + n_episodes*i}\"\u001b[0m\u001b[1;33m)\u001b[0m\u001b[1;33m\u001b[0m\u001b[1;33m\u001b[0m\u001b[0m\n\u001b[0;32m     44\u001b[0m \u001b[1;33m\u001b[0m\u001b[0m\n",
      "\u001b[1;32mc:\\Users\\chpre\\AppData\\Local\\Programs\\Python\\Python39\\lib\\site-packages\\stable_baselines3\\ppo\\ppo.py\u001b[0m in \u001b[0;36mlearn\u001b[1;34m(self, total_timesteps, callback, log_interval, tb_log_name, reset_num_timesteps, progress_bar)\u001b[0m\n\u001b[0;32m    313\u001b[0m         \u001b[0mprogress_bar\u001b[0m\u001b[1;33m:\u001b[0m \u001b[0mbool\u001b[0m \u001b[1;33m=\u001b[0m \u001b[1;32mFalse\u001b[0m\u001b[1;33m,\u001b[0m\u001b[1;33m\u001b[0m\u001b[1;33m\u001b[0m\u001b[0m\n\u001b[0;32m    314\u001b[0m     ) -> SelfPPO:\n\u001b[1;32m--> 315\u001b[1;33m         return super().learn(\n\u001b[0m\u001b[0;32m    316\u001b[0m             \u001b[0mtotal_timesteps\u001b[0m\u001b[1;33m=\u001b[0m\u001b[0mtotal_timesteps\u001b[0m\u001b[1;33m,\u001b[0m\u001b[1;33m\u001b[0m\u001b[1;33m\u001b[0m\u001b[0m\n\u001b[0;32m    317\u001b[0m             \u001b[0mcallback\u001b[0m\u001b[1;33m=\u001b[0m\u001b[0mcallback\u001b[0m\u001b[1;33m,\u001b[0m\u001b[1;33m\u001b[0m\u001b[1;33m\u001b[0m\u001b[0m\n",
      "\u001b[1;32mc:\\Users\\chpre\\AppData\\Local\\Programs\\Python\\Python39\\lib\\site-packages\\stable_baselines3\\common\\on_policy_algorithm.py\u001b[0m in \u001b[0;36mlearn\u001b[1;34m(self, total_timesteps, callback, log_interval, tb_log_name, reset_num_timesteps, progress_bar)\u001b[0m\n\u001b[0;32m    275\u001b[0m \u001b[1;33m\u001b[0m\u001b[0m\n\u001b[0;32m    276\u001b[0m         \u001b[1;32mwhile\u001b[0m \u001b[0mself\u001b[0m\u001b[1;33m.\u001b[0m\u001b[0mnum_timesteps\u001b[0m \u001b[1;33m<\u001b[0m \u001b[0mtotal_timesteps\u001b[0m\u001b[1;33m:\u001b[0m\u001b[1;33m\u001b[0m\u001b[1;33m\u001b[0m\u001b[0m\n\u001b[1;32m--> 277\u001b[1;33m             \u001b[0mcontinue_training\u001b[0m \u001b[1;33m=\u001b[0m \u001b[0mself\u001b[0m\u001b[1;33m.\u001b[0m\u001b[0mcollect_rollouts\u001b[0m\u001b[1;33m(\u001b[0m\u001b[0mself\u001b[0m\u001b[1;33m.\u001b[0m\u001b[0menv\u001b[0m\u001b[1;33m,\u001b[0m \u001b[0mcallback\u001b[0m\u001b[1;33m,\u001b[0m \u001b[0mself\u001b[0m\u001b[1;33m.\u001b[0m\u001b[0mrollout_buffer\u001b[0m\u001b[1;33m,\u001b[0m \u001b[0mn_rollout_steps\u001b[0m\u001b[1;33m=\u001b[0m\u001b[0mself\u001b[0m\u001b[1;33m.\u001b[0m\u001b[0mn_steps\u001b[0m\u001b[1;33m)\u001b[0m\u001b[1;33m\u001b[0m\u001b[1;33m\u001b[0m\u001b[0m\n\u001b[0m\u001b[0;32m    278\u001b[0m \u001b[1;33m\u001b[0m\u001b[0m\n\u001b[0;32m    279\u001b[0m             \u001b[1;32mif\u001b[0m \u001b[1;32mnot\u001b[0m \u001b[0mcontinue_training\u001b[0m\u001b[1;33m:\u001b[0m\u001b[1;33m\u001b[0m\u001b[1;33m\u001b[0m\u001b[0m\n",
      "\u001b[1;32mc:\\Users\\chpre\\AppData\\Local\\Programs\\Python\\Python39\\lib\\site-packages\\stable_baselines3\\common\\on_policy_algorithm.py\u001b[0m in \u001b[0;36mcollect_rollouts\u001b[1;34m(self, env, callback, rollout_buffer, n_rollout_steps)\u001b[0m\n\u001b[0;32m    192\u001b[0m                     \u001b[0mclipped_actions\u001b[0m \u001b[1;33m=\u001b[0m \u001b[0mnp\u001b[0m\u001b[1;33m.\u001b[0m\u001b[0mclip\u001b[0m\u001b[1;33m(\u001b[0m\u001b[0mactions\u001b[0m\u001b[1;33m,\u001b[0m \u001b[0mself\u001b[0m\u001b[1;33m.\u001b[0m\u001b[0maction_space\u001b[0m\u001b[1;33m.\u001b[0m\u001b[0mlow\u001b[0m\u001b[1;33m,\u001b[0m \u001b[0mself\u001b[0m\u001b[1;33m.\u001b[0m\u001b[0maction_space\u001b[0m\u001b[1;33m.\u001b[0m\u001b[0mhigh\u001b[0m\u001b[1;33m)\u001b[0m\u001b[1;33m\u001b[0m\u001b[1;33m\u001b[0m\u001b[0m\n\u001b[0;32m    193\u001b[0m \u001b[1;33m\u001b[0m\u001b[0m\n\u001b[1;32m--> 194\u001b[1;33m             \u001b[0mnew_obs\u001b[0m\u001b[1;33m,\u001b[0m \u001b[0mrewards\u001b[0m\u001b[1;33m,\u001b[0m \u001b[0mdones\u001b[0m\u001b[1;33m,\u001b[0m \u001b[0minfos\u001b[0m \u001b[1;33m=\u001b[0m \u001b[0menv\u001b[0m\u001b[1;33m.\u001b[0m\u001b[0mstep\u001b[0m\u001b[1;33m(\u001b[0m\u001b[0mclipped_actions\u001b[0m\u001b[1;33m)\u001b[0m\u001b[1;33m\u001b[0m\u001b[1;33m\u001b[0m\u001b[0m\n\u001b[0m\u001b[0;32m    195\u001b[0m \u001b[1;33m\u001b[0m\u001b[0m\n\u001b[0;32m    196\u001b[0m             \u001b[0mself\u001b[0m\u001b[1;33m.\u001b[0m\u001b[0mnum_timesteps\u001b[0m \u001b[1;33m+=\u001b[0m \u001b[0menv\u001b[0m\u001b[1;33m.\u001b[0m\u001b[0mnum_envs\u001b[0m\u001b[1;33m\u001b[0m\u001b[1;33m\u001b[0m\u001b[0m\n",
      "\u001b[1;32mc:\\Users\\chpre\\AppData\\Local\\Programs\\Python\\Python39\\lib\\site-packages\\stable_baselines3\\common\\vec_env\\base_vec_env.py\u001b[0m in \u001b[0;36mstep\u001b[1;34m(self, actions)\u001b[0m\n\u001b[0;32m    204\u001b[0m         \"\"\"\n\u001b[0;32m    205\u001b[0m         \u001b[0mself\u001b[0m\u001b[1;33m.\u001b[0m\u001b[0mstep_async\u001b[0m\u001b[1;33m(\u001b[0m\u001b[0mactions\u001b[0m\u001b[1;33m)\u001b[0m\u001b[1;33m\u001b[0m\u001b[1;33m\u001b[0m\u001b[0m\n\u001b[1;32m--> 206\u001b[1;33m         \u001b[1;32mreturn\u001b[0m \u001b[0mself\u001b[0m\u001b[1;33m.\u001b[0m\u001b[0mstep_wait\u001b[0m\u001b[1;33m(\u001b[0m\u001b[1;33m)\u001b[0m\u001b[1;33m\u001b[0m\u001b[1;33m\u001b[0m\u001b[0m\n\u001b[0m\u001b[0;32m    207\u001b[0m \u001b[1;33m\u001b[0m\u001b[0m\n\u001b[0;32m    208\u001b[0m     \u001b[1;32mdef\u001b[0m \u001b[0mget_images\u001b[0m\u001b[1;33m(\u001b[0m\u001b[0mself\u001b[0m\u001b[1;33m)\u001b[0m \u001b[1;33m->\u001b[0m \u001b[0mSequence\u001b[0m\u001b[1;33m[\u001b[0m\u001b[0mOptional\u001b[0m\u001b[1;33m[\u001b[0m\u001b[0mnp\u001b[0m\u001b[1;33m.\u001b[0m\u001b[0mndarray\u001b[0m\u001b[1;33m]\u001b[0m\u001b[1;33m]\u001b[0m\u001b[1;33m:\u001b[0m\u001b[1;33m\u001b[0m\u001b[1;33m\u001b[0m\u001b[0m\n",
      "\u001b[1;32mc:\\Users\\chpre\\AppData\\Local\\Programs\\Python\\Python39\\lib\\site-packages\\stable_baselines3\\common\\vec_env\\dummy_vec_env.py\u001b[0m in \u001b[0;36mstep_wait\u001b[1;34m(self)\u001b[0m\n\u001b[0;32m     68\u001b[0m                 \u001b[1;31m# save final observation where user can get it, then reset\u001b[0m\u001b[1;33m\u001b[0m\u001b[1;33m\u001b[0m\u001b[1;33m\u001b[0m\u001b[0m\n\u001b[0;32m     69\u001b[0m                 \u001b[0mself\u001b[0m\u001b[1;33m.\u001b[0m\u001b[0mbuf_infos\u001b[0m\u001b[1;33m[\u001b[0m\u001b[0menv_idx\u001b[0m\u001b[1;33m]\u001b[0m\u001b[1;33m[\u001b[0m\u001b[1;34m\"terminal_observation\"\u001b[0m\u001b[1;33m]\u001b[0m \u001b[1;33m=\u001b[0m \u001b[0mobs\u001b[0m\u001b[1;33m\u001b[0m\u001b[1;33m\u001b[0m\u001b[0m\n\u001b[1;32m---> 70\u001b[1;33m                 \u001b[0mobs\u001b[0m\u001b[1;33m,\u001b[0m \u001b[0mself\u001b[0m\u001b[1;33m.\u001b[0m\u001b[0mreset_infos\u001b[0m\u001b[1;33m[\u001b[0m\u001b[0menv_idx\u001b[0m\u001b[1;33m]\u001b[0m \u001b[1;33m=\u001b[0m \u001b[0mself\u001b[0m\u001b[1;33m.\u001b[0m\u001b[0menvs\u001b[0m\u001b[1;33m[\u001b[0m\u001b[0menv_idx\u001b[0m\u001b[1;33m]\u001b[0m\u001b[1;33m.\u001b[0m\u001b[0mreset\u001b[0m\u001b[1;33m(\u001b[0m\u001b[1;33m)\u001b[0m\u001b[1;33m\u001b[0m\u001b[1;33m\u001b[0m\u001b[0m\n\u001b[0m\u001b[0;32m     71\u001b[0m             \u001b[0mself\u001b[0m\u001b[1;33m.\u001b[0m\u001b[0m_save_obs\u001b[0m\u001b[1;33m(\u001b[0m\u001b[0menv_idx\u001b[0m\u001b[1;33m,\u001b[0m \u001b[0mobs\u001b[0m\u001b[1;33m)\u001b[0m\u001b[1;33m\u001b[0m\u001b[1;33m\u001b[0m\u001b[0m\n\u001b[0;32m     72\u001b[0m         \u001b[1;32mreturn\u001b[0m \u001b[1;33m(\u001b[0m\u001b[0mself\u001b[0m\u001b[1;33m.\u001b[0m\u001b[0m_obs_from_buf\u001b[0m\u001b[1;33m(\u001b[0m\u001b[1;33m)\u001b[0m\u001b[1;33m,\u001b[0m \u001b[0mnp\u001b[0m\u001b[1;33m.\u001b[0m\u001b[0mcopy\u001b[0m\u001b[1;33m(\u001b[0m\u001b[0mself\u001b[0m\u001b[1;33m.\u001b[0m\u001b[0mbuf_rews\u001b[0m\u001b[1;33m)\u001b[0m\u001b[1;33m,\u001b[0m \u001b[0mnp\u001b[0m\u001b[1;33m.\u001b[0m\u001b[0mcopy\u001b[0m\u001b[1;33m(\u001b[0m\u001b[0mself\u001b[0m\u001b[1;33m.\u001b[0m\u001b[0mbuf_dones\u001b[0m\u001b[1;33m)\u001b[0m\u001b[1;33m,\u001b[0m \u001b[0mdeepcopy\u001b[0m\u001b[1;33m(\u001b[0m\u001b[0mself\u001b[0m\u001b[1;33m.\u001b[0m\u001b[0mbuf_infos\u001b[0m\u001b[1;33m)\u001b[0m\u001b[1;33m)\u001b[0m\u001b[1;33m\u001b[0m\u001b[1;33m\u001b[0m\u001b[0m\n",
      "\u001b[1;32mc:\\Users\\chpre\\AppData\\Local\\Programs\\Python\\Python39\\lib\\site-packages\\stable_baselines3\\common\\monitor.py\u001b[0m in \u001b[0;36mreset\u001b[1;34m(self, **kwargs)\u001b[0m\n\u001b[0;32m     81\u001b[0m                 \u001b[1;32mraise\u001b[0m \u001b[0mValueError\u001b[0m\u001b[1;33m(\u001b[0m\u001b[1;34mf\"Expected you to pass keyword argument {key} into reset\"\u001b[0m\u001b[1;33m)\u001b[0m\u001b[1;33m\u001b[0m\u001b[1;33m\u001b[0m\u001b[0m\n\u001b[0;32m     82\u001b[0m             \u001b[0mself\u001b[0m\u001b[1;33m.\u001b[0m\u001b[0mcurrent_reset_info\u001b[0m\u001b[1;33m[\u001b[0m\u001b[0mkey\u001b[0m\u001b[1;33m]\u001b[0m \u001b[1;33m=\u001b[0m \u001b[0mvalue\u001b[0m\u001b[1;33m\u001b[0m\u001b[1;33m\u001b[0m\u001b[0m\n\u001b[1;32m---> 83\u001b[1;33m         \u001b[1;32mreturn\u001b[0m \u001b[0mself\u001b[0m\u001b[1;33m.\u001b[0m\u001b[0menv\u001b[0m\u001b[1;33m.\u001b[0m\u001b[0mreset\u001b[0m\u001b[1;33m(\u001b[0m\u001b[1;33m**\u001b[0m\u001b[0mkwargs\u001b[0m\u001b[1;33m)\u001b[0m\u001b[1;33m\u001b[0m\u001b[1;33m\u001b[0m\u001b[0m\n\u001b[0m\u001b[0;32m     84\u001b[0m \u001b[1;33m\u001b[0m\u001b[0m\n\u001b[0;32m     85\u001b[0m     \u001b[1;32mdef\u001b[0m \u001b[0mstep\u001b[0m\u001b[1;33m(\u001b[0m\u001b[0mself\u001b[0m\u001b[1;33m,\u001b[0m \u001b[0maction\u001b[0m\u001b[1;33m:\u001b[0m \u001b[0mActType\u001b[0m\u001b[1;33m)\u001b[0m \u001b[1;33m->\u001b[0m \u001b[0mTuple\u001b[0m\u001b[1;33m[\u001b[0m\u001b[0mObsType\u001b[0m\u001b[1;33m,\u001b[0m \u001b[0mSupportsFloat\u001b[0m\u001b[1;33m,\u001b[0m \u001b[0mbool\u001b[0m\u001b[1;33m,\u001b[0m \u001b[0mbool\u001b[0m\u001b[1;33m,\u001b[0m \u001b[0mDict\u001b[0m\u001b[1;33m[\u001b[0m\u001b[0mstr\u001b[0m\u001b[1;33m,\u001b[0m \u001b[0mAny\u001b[0m\u001b[1;33m]\u001b[0m\u001b[1;33m]\u001b[0m\u001b[1;33m:\u001b[0m\u001b[1;33m\u001b[0m\u001b[1;33m\u001b[0m\u001b[0m\n",
      "\u001b[1;32mc:\\Users\\chpre\\AppData\\Local\\Programs\\Python\\Python39\\lib\\site-packages\\gymnasium\\wrappers\\order_enforcing.py\u001b[0m in \u001b[0;36mreset\u001b[1;34m(self, **kwargs)\u001b[0m\n\u001b[0;32m     59\u001b[0m         \u001b[1;34m\"\"\"Resets the environment with `kwargs`.\"\"\"\u001b[0m\u001b[1;33m\u001b[0m\u001b[1;33m\u001b[0m\u001b[0m\n\u001b[0;32m     60\u001b[0m         \u001b[0mself\u001b[0m\u001b[1;33m.\u001b[0m\u001b[0m_has_reset\u001b[0m \u001b[1;33m=\u001b[0m \u001b[1;32mTrue\u001b[0m\u001b[1;33m\u001b[0m\u001b[1;33m\u001b[0m\u001b[0m\n\u001b[1;32m---> 61\u001b[1;33m         \u001b[1;32mreturn\u001b[0m \u001b[0mself\u001b[0m\u001b[1;33m.\u001b[0m\u001b[0menv\u001b[0m\u001b[1;33m.\u001b[0m\u001b[0mreset\u001b[0m\u001b[1;33m(\u001b[0m\u001b[1;33m**\u001b[0m\u001b[0mkwargs\u001b[0m\u001b[1;33m)\u001b[0m\u001b[1;33m\u001b[0m\u001b[1;33m\u001b[0m\u001b[0m\n\u001b[0m\u001b[0;32m     62\u001b[0m \u001b[1;33m\u001b[0m\u001b[0m\n\u001b[0;32m     63\u001b[0m     \u001b[1;32mdef\u001b[0m \u001b[0mrender\u001b[0m\u001b[1;33m(\u001b[0m\u001b[0mself\u001b[0m\u001b[1;33m,\u001b[0m \u001b[1;33m*\u001b[0m\u001b[0margs\u001b[0m\u001b[1;33m,\u001b[0m \u001b[1;33m**\u001b[0m\u001b[0mkwargs\u001b[0m\u001b[1;33m)\u001b[0m\u001b[1;33m:\u001b[0m\u001b[1;33m\u001b[0m\u001b[1;33m\u001b[0m\u001b[0m\n",
      "\u001b[1;32mc:\\Users\\chpre\\AppData\\Local\\Programs\\Python\\Python39\\lib\\site-packages\\gymnasium\\wrappers\\env_checker.py\u001b[0m in \u001b[0;36mreset\u001b[1;34m(self, **kwargs)\u001b[0m\n\u001b[0;32m     57\u001b[0m             \u001b[1;32mreturn\u001b[0m \u001b[0menv_reset_passive_checker\u001b[0m\u001b[1;33m(\u001b[0m\u001b[0mself\u001b[0m\u001b[1;33m.\u001b[0m\u001b[0menv\u001b[0m\u001b[1;33m,\u001b[0m \u001b[1;33m**\u001b[0m\u001b[0mkwargs\u001b[0m\u001b[1;33m)\u001b[0m\u001b[1;33m\u001b[0m\u001b[1;33m\u001b[0m\u001b[0m\n\u001b[0;32m     58\u001b[0m         \u001b[1;32melse\u001b[0m\u001b[1;33m:\u001b[0m\u001b[1;33m\u001b[0m\u001b[1;33m\u001b[0m\u001b[0m\n\u001b[1;32m---> 59\u001b[1;33m             \u001b[1;32mreturn\u001b[0m \u001b[0mself\u001b[0m\u001b[1;33m.\u001b[0m\u001b[0menv\u001b[0m\u001b[1;33m.\u001b[0m\u001b[0mreset\u001b[0m\u001b[1;33m(\u001b[0m\u001b[1;33m**\u001b[0m\u001b[0mkwargs\u001b[0m\u001b[1;33m)\u001b[0m\u001b[1;33m\u001b[0m\u001b[1;33m\u001b[0m\u001b[0m\n\u001b[0m\u001b[0;32m     60\u001b[0m \u001b[1;33m\u001b[0m\u001b[0m\n\u001b[0;32m     61\u001b[0m     \u001b[1;32mdef\u001b[0m \u001b[0mrender\u001b[0m\u001b[1;33m(\u001b[0m\u001b[0mself\u001b[0m\u001b[1;33m,\u001b[0m \u001b[1;33m*\u001b[0m\u001b[0margs\u001b[0m\u001b[1;33m,\u001b[0m \u001b[1;33m**\u001b[0m\u001b[0mkwargs\u001b[0m\u001b[1;33m)\u001b[0m\u001b[1;33m:\u001b[0m\u001b[1;33m\u001b[0m\u001b[1;33m\u001b[0m\u001b[0m\n",
      "\u001b[1;32mc:\\Users\\chpre\\AppData\\Local\\Programs\\Python\\Python39\\lib\\site-packages\\PyFlyt\\gym_envs\\quadx_envs\\quadx_hover_env.py\u001b[0m in \u001b[0;36mreset\u001b[1;34m(self, seed, options)\u001b[0m\n\u001b[0;32m     66\u001b[0m             \u001b[0moptions\u001b[0m\u001b[1;33m:\u001b[0m \u001b[1;32mNone\u001b[0m\u001b[1;33m\u001b[0m\u001b[1;33m\u001b[0m\u001b[0m\n\u001b[0;32m     67\u001b[0m         \"\"\"\n\u001b[1;32m---> 68\u001b[1;33m         \u001b[0msuper\u001b[0m\u001b[1;33m(\u001b[0m\u001b[1;33m)\u001b[0m\u001b[1;33m.\u001b[0m\u001b[0mbegin_reset\u001b[0m\u001b[1;33m(\u001b[0m\u001b[0mseed\u001b[0m\u001b[1;33m,\u001b[0m \u001b[0moptions\u001b[0m\u001b[1;33m)\u001b[0m\u001b[1;33m\u001b[0m\u001b[1;33m\u001b[0m\u001b[0m\n\u001b[0m\u001b[0;32m     69\u001b[0m         \u001b[0msuper\u001b[0m\u001b[1;33m(\u001b[0m\u001b[1;33m)\u001b[0m\u001b[1;33m.\u001b[0m\u001b[0mend_reset\u001b[0m\u001b[1;33m(\u001b[0m\u001b[0mseed\u001b[0m\u001b[1;33m,\u001b[0m \u001b[0moptions\u001b[0m\u001b[1;33m)\u001b[0m\u001b[1;33m\u001b[0m\u001b[1;33m\u001b[0m\u001b[0m\n\u001b[0;32m     70\u001b[0m \u001b[1;33m\u001b[0m\u001b[0m\n",
      "\u001b[1;32mc:\\Users\\chpre\\AppData\\Local\\Programs\\Python\\Python39\\lib\\site-packages\\PyFlyt\\gym_envs\\quadx_envs\\quadx_base_env.py\u001b[0m in \u001b[0;36mbegin_reset\u001b[1;34m(self, seed, options, drone_options)\u001b[0m\n\u001b[0;32m    155\u001b[0m \u001b[1;33m\u001b[0m\u001b[0m\n\u001b[0;32m    156\u001b[0m         \u001b[1;31m# init env\u001b[0m\u001b[1;33m\u001b[0m\u001b[1;33m\u001b[0m\u001b[1;33m\u001b[0m\u001b[0m\n\u001b[1;32m--> 157\u001b[1;33m         self.env = Aviary(\n\u001b[0m\u001b[0;32m    158\u001b[0m             \u001b[0mstart_pos\u001b[0m\u001b[1;33m=\u001b[0m\u001b[0mself\u001b[0m\u001b[1;33m.\u001b[0m\u001b[0mstart_pos\u001b[0m\u001b[1;33m,\u001b[0m\u001b[1;33m\u001b[0m\u001b[1;33m\u001b[0m\u001b[0m\n\u001b[0;32m    159\u001b[0m             \u001b[0mstart_orn\u001b[0m\u001b[1;33m=\u001b[0m\u001b[0mself\u001b[0m\u001b[1;33m.\u001b[0m\u001b[0mstart_orn\u001b[0m\u001b[1;33m,\u001b[0m\u001b[1;33m\u001b[0m\u001b[1;33m\u001b[0m\u001b[0m\n",
      "\u001b[1;32mc:\\Users\\chpre\\AppData\\Local\\Programs\\Python\\Python39\\lib\\site-packages\\PyFlyt\\core\\aviary.py\u001b[0m in \u001b[0;36m__init__\u001b[1;34m(self, start_pos, start_orn, drone_type, drone_type_mappings, drone_options, wind_type, wind_options, render, physics_hz, world_scale, seed)\u001b[0m\n\u001b[0;32m    154\u001b[0m         )\n\u001b[0;32m    155\u001b[0m \u001b[1;33m\u001b[0m\u001b[0m\n\u001b[1;32m--> 156\u001b[1;33m         \u001b[0mself\u001b[0m\u001b[1;33m.\u001b[0m\u001b[0mreset\u001b[0m\u001b[1;33m(\u001b[0m\u001b[0mseed\u001b[0m\u001b[1;33m)\u001b[0m\u001b[1;33m\u001b[0m\u001b[1;33m\u001b[0m\u001b[0m\n\u001b[0m\u001b[0;32m    157\u001b[0m \u001b[1;33m\u001b[0m\u001b[0m\n\u001b[0;32m    158\u001b[0m     \u001b[1;32mdef\u001b[0m \u001b[0mreset\u001b[0m\u001b[1;33m(\u001b[0m\u001b[0mself\u001b[0m\u001b[1;33m,\u001b[0m \u001b[0mseed\u001b[0m\u001b[1;33m:\u001b[0m \u001b[1;32mNone\u001b[0m \u001b[1;33m|\u001b[0m \u001b[0mint\u001b[0m \u001b[1;33m=\u001b[0m \u001b[1;32mNone\u001b[0m\u001b[1;33m)\u001b[0m\u001b[1;33m:\u001b[0m\u001b[1;33m\u001b[0m\u001b[1;33m\u001b[0m\u001b[0m\n",
      "\u001b[1;32mc:\\Users\\chpre\\AppData\\Local\\Programs\\Python\\Python39\\lib\\site-packages\\PyFlyt\\core\\aviary.py\u001b[0m in \u001b[0;36mreset\u001b[1;34m(self, seed)\u001b[0m\n\u001b[0;32m    193\u001b[0m         ):\n\u001b[0;32m    194\u001b[0m             self.drones.append(\n\u001b[1;32m--> 195\u001b[1;33m                 self.drone_type_mappings[drone_type](\n\u001b[0m\u001b[0;32m    196\u001b[0m                     \u001b[0mself\u001b[0m\u001b[1;33m,\u001b[0m\u001b[1;33m\u001b[0m\u001b[1;33m\u001b[0m\u001b[0m\n\u001b[0;32m    197\u001b[0m                     \u001b[0mstart_pos\u001b[0m\u001b[1;33m=\u001b[0m\u001b[0mstart_pos\u001b[0m\u001b[1;33m,\u001b[0m\u001b[1;33m\u001b[0m\u001b[1;33m\u001b[0m\u001b[0m\n",
      "\u001b[1;32mc:\\Users\\chpre\\AppData\\Local\\Programs\\Python\\Python39\\lib\\site-packages\\PyFlyt\\core\\drones\\quadx.py\u001b[0m in \u001b[0;36m__init__\u001b[1;34m(self, p, start_pos, start_orn, control_hz, physics_hz, drone_model, model_dir, np_random, use_camera, use_gimbal, camera_angle_degrees, camera_FOV_degrees, camera_resolution)\u001b[0m\n\u001b[0;32m     52\u001b[0m             \u001b[0mcamera_resolution\u001b[0m \u001b[1;33m(\u001b[0m\u001b[0mtuple\u001b[0m\u001b[1;33m[\u001b[0m\u001b[0mint\u001b[0m\u001b[1;33m,\u001b[0m \u001b[0mint\u001b[0m\u001b[1;33m]\u001b[0m\u001b[1;33m)\u001b[0m\u001b[1;33m:\u001b[0m \u001b[0mcamera_resolution\u001b[0m\u001b[1;33m\u001b[0m\u001b[1;33m\u001b[0m\u001b[0m\n\u001b[0;32m     53\u001b[0m         \"\"\"\n\u001b[1;32m---> 54\u001b[1;33m         super().__init__(\n\u001b[0m\u001b[0;32m     55\u001b[0m             \u001b[0mp\u001b[0m\u001b[1;33m=\u001b[0m\u001b[0mp\u001b[0m\u001b[1;33m,\u001b[0m\u001b[1;33m\u001b[0m\u001b[1;33m\u001b[0m\u001b[0m\n\u001b[0;32m     56\u001b[0m             \u001b[0mstart_pos\u001b[0m\u001b[1;33m=\u001b[0m\u001b[0mstart_pos\u001b[0m\u001b[1;33m,\u001b[0m\u001b[1;33m\u001b[0m\u001b[1;33m\u001b[0m\u001b[0m\n",
      "\u001b[1;32mc:\\Users\\chpre\\AppData\\Local\\Programs\\Python\\Python39\\lib\\site-packages\\PyFlyt\\core\\abstractions\\base_drone.py\u001b[0m in \u001b[0;36m__init__\u001b[1;34m(self, p, start_pos, start_orn, control_hz, physics_hz, drone_model, model_dir, np_random)\u001b[0m\n\u001b[0;32m    102\u001b[0m         \u001b[1;32mif\u001b[0m \u001b[0mmodel_dir\u001b[0m \u001b[1;32mis\u001b[0m \u001b[1;32mNone\u001b[0m\u001b[1;33m:\u001b[0m\u001b[1;33m\u001b[0m\u001b[1;33m\u001b[0m\u001b[0m\n\u001b[0;32m    103\u001b[0m             model_dir = os.path.join(\n\u001b[1;32m--> 104\u001b[1;33m                 \u001b[0mos\u001b[0m\u001b[1;33m.\u001b[0m\u001b[0mpath\u001b[0m\u001b[1;33m.\u001b[0m\u001b[0mdirname\u001b[0m\u001b[1;33m(\u001b[0m\u001b[0mos\u001b[0m\u001b[1;33m.\u001b[0m\u001b[0mpath\u001b[0m\u001b[1;33m.\u001b[0m\u001b[0mrealpath\u001b[0m\u001b[1;33m(\u001b[0m\u001b[0m__file__\u001b[0m\u001b[1;33m)\u001b[0m\u001b[1;33m)\u001b[0m\u001b[1;33m,\u001b[0m \u001b[1;34m\"../../models/vehicles/\"\u001b[0m\u001b[1;33m\u001b[0m\u001b[1;33m\u001b[0m\u001b[0m\n\u001b[0m\u001b[0;32m    105\u001b[0m             )\n\u001b[0;32m    106\u001b[0m         \u001b[0mself\u001b[0m\u001b[1;33m.\u001b[0m\u001b[0mdrone_path\u001b[0m \u001b[1;33m=\u001b[0m \u001b[0mos\u001b[0m\u001b[1;33m.\u001b[0m\u001b[0mpath\u001b[0m\u001b[1;33m.\u001b[0m\u001b[0mjoin\u001b[0m\u001b[1;33m(\u001b[0m\u001b[0mmodel_dir\u001b[0m\u001b[1;33m,\u001b[0m \u001b[1;34mf\"{drone_model}/{drone_model}.urdf\"\u001b[0m\u001b[1;33m)\u001b[0m\u001b[1;33m\u001b[0m\u001b[1;33m\u001b[0m\u001b[0m\n",
      "\u001b[1;32mc:\\Users\\chpre\\AppData\\Local\\Programs\\Python\\Python39\\lib\\ntpath.py\u001b[0m in \u001b[0;36mrealpath\u001b[1;34m(path)\u001b[0m\n\u001b[0;32m    645\u001b[0m             \u001b[0mpath\u001b[0m \u001b[1;33m=\u001b[0m \u001b[0mjoin\u001b[0m\u001b[1;33m(\u001b[0m\u001b[0mcwd\u001b[0m\u001b[1;33m,\u001b[0m \u001b[0mpath\u001b[0m\u001b[1;33m)\u001b[0m\u001b[1;33m\u001b[0m\u001b[1;33m\u001b[0m\u001b[0m\n\u001b[0;32m    646\u001b[0m         \u001b[1;32mtry\u001b[0m\u001b[1;33m:\u001b[0m\u001b[1;33m\u001b[0m\u001b[1;33m\u001b[0m\u001b[0m\n\u001b[1;32m--> 647\u001b[1;33m             \u001b[0mpath\u001b[0m \u001b[1;33m=\u001b[0m \u001b[0m_getfinalpathname\u001b[0m\u001b[1;33m(\u001b[0m\u001b[0mpath\u001b[0m\u001b[1;33m)\u001b[0m\u001b[1;33m\u001b[0m\u001b[1;33m\u001b[0m\u001b[0m\n\u001b[0m\u001b[0;32m    648\u001b[0m             \u001b[0minitial_winerror\u001b[0m \u001b[1;33m=\u001b[0m \u001b[1;36m0\u001b[0m\u001b[1;33m\u001b[0m\u001b[1;33m\u001b[0m\u001b[0m\n\u001b[0;32m    649\u001b[0m         \u001b[1;32mexcept\u001b[0m \u001b[0mOSError\u001b[0m \u001b[1;32mas\u001b[0m \u001b[0mex\u001b[0m\u001b[1;33m:\u001b[0m\u001b[1;33m\u001b[0m\u001b[1;33m\u001b[0m\u001b[0m\n",
      "\u001b[1;31mKeyboardInterrupt\u001b[0m: "
     ]
    }
   ],
   "source": [
    "#env = make_vec_env(lambda: FlattenWaypointEnv(gym.make(\"PyFlyt/QuadX-Waypoints-v1\"), context_length=1), n_envs=1)\n",
    "env_name = \"QuadX-Hover-v1\"\n",
    "env = make_vec_env(lambda: gym.make(\"PyFlyt/QuadX-Hover-v1\"))\n",
    "m = train(env_name, env, \"PPO\", n_episodes=100000, n_runs=1)# model_name=\"50720.zip\")"
   ]
  },
  {
   "cell_type": "code",
   "execution_count": 3,
   "metadata": {},
   "outputs": [],
   "source": [
    "m = PPO.load(\"models\\\\PPO_QuadX-Waypoints-v1_sGHuVNzoGSoWUMxHNeXJ\\\\250000.zip\")"
   ]
  },
  {
   "cell_type": "code",
   "execution_count": 4,
   "metadata": {},
   "outputs": [
    {
     "name": "stderr",
     "output_type": "stream",
     "text": [
      "c:\\Users\\chpre\\AppData\\Local\\Programs\\Python\\Python39\\lib\\site-packages\\gymnasium\\core.py:311: UserWarning: \u001b[33mWARN: env.waypoints to get variables from other wrappers is deprecated and will be removed in v1.0, to get this variable you can do `env.unwrapped.waypoints` for environment variables or `env.get_wrapper_attr('waypoints')` that will search the reminding wrappers.\u001b[0m\n",
      "  logger.warn(\n"
     ]
    },
    {
     "name": "stdout",
     "output_type": "stream",
     "text": [
      "\u001b[A                             \u001b[A\n"
     ]
    },
    {
     "name": "stderr",
     "output_type": "stream",
     "text": [
      "c:\\Users\\chpre\\AppData\\Local\\Programs\\Python\\Python39\\lib\\site-packages\\gymnasium\\utils\\passive_env_checker.py:266: UserWarning: \u001b[33mWARN: Human rendering should return `None`, got <class 'numpy.ndarray'>\u001b[0m\n",
      "  logger.warn(\n"
     ]
    },
    {
     "name": "stdout",
     "output_type": "stream",
     "text": [
      "\u001b[A                             \u001b[A\n"
     ]
    }
   ],
   "source": [
    "\n",
    "for _ in range(2):\n",
    "    render_env = FlattenWaypointEnv(gym.make(f\"PyFlyt/QuadX-Waypoints-v1\", render_mode=\"human\"), context_length=1)\n",
    "    #render_env = gym.make(\"PyFlyt/QuadX-Hover-v1\", render_mode=\"human\")\n",
    "    obs = render_env.reset()\n",
    "    obs = obs[0]\n",
    "    done = False\n",
    "    while not done:\n",
    "        action, _states = m.predict(obs)\n",
    "        obs, rewards, terminated, truncated, info = render_env.step(action)\n",
    "        done = terminated or truncated\n",
    "        render_env.render()\n",
    "    render_env.close()"
   ]
  },
  {
   "cell_type": "code",
   "execution_count": 2,
   "metadata": {},
   "outputs": [
    {
     "name": "stdout",
     "output_type": "stream",
     "text": [
      "\u001b[A                             \u001b[A\n"
     ]
    }
   ],
   "source": [
    "render_env = gym.make(f\"PyFlyt/QuadX-Waypoints-v1\", render_mode=\"human\")\n",
    "obs = render_env.reset()"
   ]
  },
  {
   "cell_type": "code",
   "execution_count": 18,
   "metadata": {},
   "outputs": [
    {
     "name": "stderr",
     "output_type": "stream",
     "text": [
      "c:\\Users\\chpre\\AppData\\Local\\Programs\\Python\\Python39\\lib\\site-packages\\gymnasium\\core.py:311: UserWarning: \u001b[33mWARN: env.compute_auxiliary to get variables from other wrappers is deprecated and will be removed in v1.0, to get this variable you can do `env.unwrapped.compute_auxiliary` for environment variables or `env.get_wrapper_attr('compute_auxiliary')` that will search the reminding wrappers.\u001b[0m\n",
      "  logger.warn(\n"
     ]
    },
    {
     "data": {
      "text/plain": [
       "array([0.05140749, 0.05087556, 0.05333369, 0.04924014])"
      ]
     },
     "execution_count": 18,
     "metadata": {},
     "output_type": "execute_result"
    }
   ],
   "source": [
    "render_env.compute_auxiliary()"
   ]
  },
  {
   "cell_type": "code",
   "execution_count": 16,
   "metadata": {},
   "outputs": [
    {
     "data": {
      "text/plain": [
       "(array([ 0.00125275,  0.00190909, -0.00077839]),\n",
       " array([8.51291471e-05, 2.40113936e-04, 4.88786758e-06]),\n",
       " array([ 1.84097661e-04, -6.52745857e-05, -7.63067482e-01]),\n",
       " array([ 1.26732446e-08, -4.39806075e-09,  9.68138822e-01]),\n",
       " (4.256427980806423e-05,\n",
       "  0.00012005707183480889,\n",
       "  2.4388235954353965e-06,\n",
       "  0.9999999918843169))"
      ]
     },
     "execution_count": 16,
     "metadata": {},
     "output_type": "execute_result"
    }
   ],
   "source": [
    "render_env.compute_attitude()\n",
    "#ang_vel, ang_pos, lin_vel, lin_pos, quarternion"
   ]
  },
  {
   "cell_type": "code",
   "execution_count": 17,
   "metadata": {},
   "outputs": [
    {
     "data": {
      "text/plain": [
       "array([ 1.25275156e-03,  1.90908641e-03, -7.78390410e-04,  4.25642798e-05,\n",
       "        1.20057072e-04,  2.43882360e-06,  9.99999992e-01,  1.84097661e-04,\n",
       "       -6.52745857e-05, -7.63067482e-01,  1.26732446e-08, -4.39806075e-09,\n",
       "        9.68138822e-01,  0.00000000e+00,  0.00000000e+00,  0.00000000e+00,\n",
       "        0.00000000e+00,  5.14074940e-02,  5.08755614e-02,  5.33336916e-02,\n",
       "        4.92401436e-02])"
      ]
     },
     "execution_count": 17,
     "metadata": {},
     "output_type": "execute_result"
    }
   ],
   "source": [
    "obs[0][\"attitude\"]"
   ]
  },
  {
   "cell_type": "code",
   "execution_count": 10,
   "metadata": {},
   "outputs": [
    {
     "data": {
      "text/plain": [
       "array([[ 0.68285049, -1.04936727,  3.16790635],\n",
       "       [-0.65618658, -0.19189936,  1.34415656],\n",
       "       [-0.21819811, -0.55136075,  0.57843157],\n",
       "       [ 1.0706794 ,  0.41072173, -0.39996766]])"
      ]
     },
     "execution_count": 10,
     "metadata": {},
     "output_type": "execute_result"
    }
   ],
   "source": [
    "obs[0][\"target_deltas\"]"
   ]
  },
  {
   "cell_type": "code",
   "execution_count": 10,
   "metadata": {},
   "outputs": [
    {
     "name": "stdout",
     "output_type": "stream",
     "text": [
      "\u001b[A                             \u001b[A\n"
     ]
    },
    {
     "data": {
      "text/plain": [
       "(array([-6.83655089e-03, -9.86821756e-03, -2.47449865e-03, -1.64292553e-04,\n",
       "        -1.48964536e-04, -2.98982793e-05,  9.99999975e-01, -2.28135780e-04,\n",
       "         2.52316654e-04, -7.63178290e-01, -9.85124380e-09,  3.00167640e-08,\n",
       "         9.68132543e-01,  0.00000000e+00,  0.00000000e+00,  0.00000000e+00,\n",
       "         0.00000000e+00,  5.27517654e-02,  5.03095138e-02,  5.27818093e-02,\n",
       "         5.08577356e-02,  1.19553976e+00,  1.54473374e+00, -6.08256510e-01]),\n",
       " {'out_of_bounds': False,\n",
       "  'collision': False,\n",
       "  'env_complete': False,\n",
       "  'num_targets_reached': 0})"
      ]
     },
     "execution_count": 10,
     "metadata": {},
     "output_type": "execute_result"
    }
   ],
   "source": [
    "render_env.reset()"
   ]
  }
 ],
 "metadata": {
  "kernelspec": {
   "display_name": "Python 3",
   "language": "python",
   "name": "python3"
  },
  "language_info": {
   "codemirror_mode": {
    "name": "ipython",
    "version": 3
   },
   "file_extension": ".py",
   "mimetype": "text/x-python",
   "name": "python",
   "nbconvert_exporter": "python",
   "pygments_lexer": "ipython3",
   "version": "3.9.0"
  }
 },
 "nbformat": 4,
 "nbformat_minor": 2
}

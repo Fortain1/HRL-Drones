{
 "cells": [
  {
   "cell_type": "code",
   "execution_count": 1,
   "metadata": {},
   "outputs": [],
   "source": [
    "\"\"\"Spawn a duck object above the drone.\"\"\"\n",
    "import numpy as np\n",
    "\n",
    "from PyFlyt.core import Aviary, loadOBJ, obj_collision, obj_visual\n",
    "\n",
    "# the starting position and orientations\n",
    "start_pos = np.array([[0.0, 0.0, 1.0]])\n",
    "start_orn = np.array([[0.0, 0.0, 0.0]])\n",
    "\n",
    "# environment setup\n",
    "env = Aviary(start_pos=start_pos, start_orn=start_orn, render=True, drone_type=\"quadx\")\n",
    "\n",
    "# set to position control\n",
    "env.set_mode(7)\n",
    "\n",
    "# load the visual and collision entities and load the duck\n",
    "visualId = obj_visual(env, \"duck.obj\")\n",
    "collisionId = obj_collision(env, \"duck.obj\")\n",
    "loadOBJ(\n",
    "    env,\n",
    "    visualId=visualId,\n",
    "    collisionId=collisionId,\n",
    "    baseMass=1.0,\n",
    "    basePosition=[0.0, 0.0, 10.0],\n",
    ")\n",
    "\n",
    "# call this to register all new bodies for collision\n",
    "env.register_all_new_bodies()\n",
    "\n",
    "# simulate for 1000 steps (1000/120 ~= 8 seconds)\n",
    "for i in range(1000):\n",
    "    env.step()"
   ]
  },
  {
   "cell_type": "code",
   "execution_count": null,
   "metadata": {},
   "outputs": [],
   "source": []
  }
 ],
 "metadata": {
  "kernelspec": {
   "display_name": "Python 3",
   "language": "python",
   "name": "python3"
  },
  "language_info": {
   "codemirror_mode": {
    "name": "ipython",
    "version": 3
   },
   "file_extension": ".py",
   "mimetype": "text/x-python",
   "name": "python",
   "nbconvert_exporter": "python",
   "pygments_lexer": "ipython3",
   "version": "3.9.0"
  }
 },
 "nbformat": 4,
 "nbformat_minor": 2
}
